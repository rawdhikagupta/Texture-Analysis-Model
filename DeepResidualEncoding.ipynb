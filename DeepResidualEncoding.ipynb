{
  "nbformat": 4,
  "nbformat_minor": 0,
  "metadata": {
    "colab": {
      "provenance": [],
      "include_colab_link": true
    },
    "kernelspec": {
      "name": "python3",
      "display_name": "Python 3"
    },
    "language_info": {
      "name": "python"
    },
    "gpuClass": "standard",
    "accelerator": "GPU"
  },
  "cells": [
    {
      "cell_type": "markdown",
      "metadata": {
        "id": "view-in-github",
        "colab_type": "text"
      },
      "source": [
        "<a href=\"https://colab.research.google.com/github/rawdhikagupta/Texture-Analysis-Model/blob/main/DeepResidualEncoding.ipynb\" target=\"_parent\"><img src=\"https://colab.research.google.com/assets/colab-badge.svg\" alt=\"Open In Colab\"/></a>"
      ]
    },
    {
      "cell_type": "code",
      "execution_count": null,
      "metadata": {
        "id": "vl0TsNvrvp6p"
      },
      "outputs": [],
      "source": [
        "import tensorflow as tf\n",
        "import matplotlib.pyplot as plt"
      ]
    },
    {
      "cell_type": "code",
      "source": [
        "# load dataset\n",
        "path = 'https://www.robots.ox.ac.uk/~vgg/data/dtd/download/dtd-r1.0.1.tar.gz'\n",
        "path_to_file = tf.keras.utils.get_file(\"dtd-r1.0.1_data\", path, archive_format = 'tar', untar = True, extract=True)\n",
        "\n",
        "# extracted file is dtd/images in datasets dir\n",
        "path_to_dir = \"/root/.keras/datasets/dtd/images\"\n",
        "\n",
        "ds_train = tf.keras.utils.image_dataset_from_directory(\n",
        "    path_to_dir, subset= 'training', validation_split = 0.3, seed = 42, shuffle = True, label_mode = 'int', batch_size=32, image_size=(448,448)\n",
        ")\n",
        "\n",
        "\n",
        "ds_test = tf.keras.utils.image_dataset_from_directory(\n",
        "    path_to_dir, subset= 'validation', validation_split = 0.3, seed = 42, shuffle =True, label_mode ='int', batch_size = 32, image_size=(448,448)\n",
        ")\n",
        "\n",
        "#ds_val = ds_test.take(ds_test.cardinality()//2)\n",
        "#ds_test = ds_test.skip(ds_test.cardinality()//2)\n",
        "\n",
        "num_classes=  len(ds_train.class_names)\n",
        "\n",
        "print(\"Number of train batches: \", ds_train.cardinality().numpy())\n",
        "print(\"Number of test batches: \", ds_test.cardinality().numpy())\n",
        "#print(\"Number of validation batches: \", ds_val.cardinality().numpy())\n",
        "\n",
        "def pre_processing(image, label):\n",
        "  image = tf.keras.applications.resnet.preprocess_input(image)\n",
        "  return image, label\n",
        "\n",
        "ds_train = ds_train.map(pre_processing, num_parallel_calls = tf.data.AUTOTUNE)\n",
        "ds_test = ds_test.map(pre_processing, num_parallel_calls= tf.data.AUTOTUNE)\n",
        "#ds_val = ds_val.map(pre_processing, num_parallel_calls=tf.data.AUTOTUNE)\n",
        "\n",
        "def tfds_to_tensor(ds):\n",
        "  images = []\n",
        "  labels = []\n",
        "  for image, label in ds:\n",
        "    images.append(image)\n",
        "    labels.append(label)\n",
        "  return tf.concat(images, axis=0), tf.concat(labels, axis=0)"
      ],
      "metadata": {
        "colab": {
          "base_uri": "https://localhost:8080/"
        },
        "id": "4GbxnjsPv5iI",
        "outputId": "ea72dceb-0fb9-4177-8ce2-2116bcf52aed"
      },
      "execution_count": null,
      "outputs": [
        {
          "output_type": "stream",
          "name": "stdout",
          "text": [
            "Downloading data from https://www.robots.ox.ac.uk/~vgg/data/dtd/download/dtd-r1.0.1.tar.gz\n",
            "625246208/625239812 [==============================] - 19s 0us/step\n",
            "625254400/625239812 [==============================] - 19s 0us/step\n",
            "Found 5640 files belonging to 47 classes.\n",
            "Using 3948 files for training.\n",
            "Found 5640 files belonging to 47 classes.\n",
            "Using 1692 files for validation.\n",
            "Number of train batches:  124\n",
            "Number of test batches:  53\n"
          ]
        }
      ]
    },
    {
      "cell_type": "code",
      "source": [
        "def residualnet(basemodel, num_classes, dropout_rate, layer_index=None):\n",
        "  if layer_index is not None:\n",
        "    x = basemodel.output\n",
        "    y = basemodel.get_layer(index = layer_index).output\n",
        "    #--------------Convolutional Transfer-----------------------------\n",
        "    ctm = tf.keras.layers.Conv2D(basemodel.output_shape[-1], kernel_size= 1)(x)\n",
        "    ctm = tf.keras.layers.Dropout(dropout_rate)(ctm)\n",
        "    ctm = tf.keras.layers.BatchNormalization()(ctm)\n",
        "    ctm = tf.keras.layers.Activation(activation='sigmoid')(ctm)\n",
        "\n",
        "    ctm_y = tf.keras.layers.Conv2D(basemodel.get_layer(index= layer_index).output_shape[-1], kernel_size= 1)(y)\n",
        "    ctm_y = tf.keras.layers.Dropout(dropout_rate)(ctm_y)\n",
        "    ctm_y = tf.keras.layers.BatchNormalization()(ctm_y)\n",
        "    ctm_y = tf.keras.layers.Activation(activation='sigmoid')(ctm_y)\n",
        "    #--------------Residual Calculation-------------------------------\n",
        "    x = tf.keras.layers.Activation(activation='sigmoid')(x)\n",
        "    res = tf.keras.layers.Lambda(lambda v: tf.subtract(v[1], v[0]))([x, ctm])\n",
        "\n",
        "    y = tf.keras.layers.Activation(activation='sigmoid')(y)\n",
        "    res_y = tf.keras.layers.Lambda(lambda v: tf.subtract(v[1], v[0]))([y, ctm_y])\n",
        "    #--------------Aggregation----------------------------------------\n",
        "    x = tf.keras.layers.Activation(activation='relu')(res)\n",
        "    x = tf.keras.layers.BatchNormalization()(x)\n",
        "    x = tf.keras.layers.Activation(activation='relu')(x)\n",
        "    x = tf.keras.layers.GlobalAveragePooling2D()(x)\n",
        "\n",
        "    y = tf.keras.layers.Activation(activation='relu')(res_y)\n",
        "    y = tf.keras.layers.BatchNormalization()(y)\n",
        "    y = tf.keras.layers.Activation(activation='relu')(y)\n",
        "    y = tf.keras.layers.GlobalAveragePooling2D()(y)\n",
        "    #-----------------------------------------------------------------\n",
        "    x = tf.keras.layers.Concatenate()([x, y])\n",
        "    x = tf.keras.layers.Dense(num_classes, activation='softmax')(x)\n",
        "    model = tf.keras.Model(inputs=basemodel.input, outputs=x)\n",
        "  else:\n",
        "    x = basemodel.output\n",
        "    #--------------Convolutional Transfer-----------------------------\n",
        "    ctm = tf.keras.layers.Conv2D(basemodel.output_shape[-1], kernel_size= 1)(x)\n",
        "    ctm = tf.keras.layers.Dropout(dropout_rate)(ctm)\n",
        "    ctm = tf.keras.layers.BatchNormalization()(ctm)\n",
        "    ctm = tf.keras.layers.Activation(activation='sigmoid')(ctm)\n",
        "    #--------------Residual Calculation-------------------------------\n",
        "    x = tf.keras.layers.Activation(activation='sigmoid')(x)\n",
        "    res = tf.keras.layers.Lambda(lambda v: tf.subtract(v[1], v[0]))([x, ctm])\n",
        "    #--------------Aggregation----------------------------------------\n",
        "    x = tf.keras.layers.Activation(activation='relu')(res)\n",
        "    x = tf.keras.layers.BatchNormalization()(x)\n",
        "    x = tf.keras.layers.Activation(activation='relu')(x)\n",
        "    x = tf.keras.layers.GlobalAveragePooling2D()(x)\n",
        "    #-----------------------------------------------------------------\n",
        "    x = tf.keras.layers.Dense(num_classes, activation='softmax')(x)\n",
        "    model = tf.keras.Model(inputs=basemodel.input, outputs=x)\n",
        "  return model"
      ],
      "metadata": {
        "id": "8AGG-ABV1r1e"
      },
      "execution_count": null,
      "outputs": []
    },
    {
      "cell_type": "code",
      "source": [
        "backbone_model = tf.keras.applications.resnet50.ResNet50(include_top=False, weights='imagenet', input_shape=(448,448,3))\n",
        "backbone_model.trainable = False \n",
        "\n",
        "model_1= residualnet(backbone_model, 47, 0.6)\n",
        "model_1.compile(\n",
        "    optimizer = tf.keras.optimizers.Adam(),\n",
        "    loss = tf.keras.losses.SparseCategoricalCrossentropy(),\n",
        "    metrics=['accuracy']\n",
        ")\n",
        "\n",
        "model_1.fit(ds_train, epochs=15, validation_data=ds_test)"
      ],
      "metadata": {
        "id": "hloTQnmfnHzv",
        "colab": {
          "base_uri": "https://localhost:8080/"
        },
        "outputId": "8cd14c80-0c4a-4fa1-daaf-221bb71c79c5"
      },
      "execution_count": null,
      "outputs": [
        {
          "output_type": "stream",
          "name": "stdout",
          "text": [
            "Downloading data from https://storage.googleapis.com/tensorflow/keras-applications/resnet/resnet50_weights_tf_dim_ordering_tf_kernels_notop.h5\n",
            "94773248/94765736 [==============================] - 0s 0us/step\n",
            "94781440/94765736 [==============================] - 0s 0us/step\n",
            "Epoch 1/15\n",
            "124/124 [==============================] - 96s 638ms/step - loss: 1.4656 - accuracy: 0.6074 - val_loss: 2.0208 - val_accuracy: 0.6850\n",
            "Epoch 2/15\n",
            "124/124 [==============================] - 80s 634ms/step - loss: 0.4768 - accuracy: 0.8589 - val_loss: 1.4797 - val_accuracy: 0.7069\n",
            "Epoch 3/15\n",
            "124/124 [==============================] - 76s 602ms/step - loss: 0.2249 - accuracy: 0.9450 - val_loss: 1.0320 - val_accuracy: 0.7358\n",
            "Epoch 4/15\n",
            "124/124 [==============================] - 76s 607ms/step - loss: 0.0970 - accuracy: 0.9840 - val_loss: 1.0180 - val_accuracy: 0.7346\n",
            "Epoch 5/15\n",
            "124/124 [==============================] - 77s 609ms/step - loss: 0.0565 - accuracy: 0.9909 - val_loss: 1.1528 - val_accuracy: 0.7317\n",
            "Epoch 6/15\n",
            "124/124 [==============================] - 76s 600ms/step - loss: 0.0420 - accuracy: 0.9916 - val_loss: 1.2348 - val_accuracy: 0.7352\n",
            "Epoch 7/15\n",
            "124/124 [==============================] - 77s 608ms/step - loss: 0.0221 - accuracy: 0.9982 - val_loss: 1.1991 - val_accuracy: 0.7394\n",
            "Epoch 8/15\n",
            "124/124 [==============================] - 75s 598ms/step - loss: 0.0119 - accuracy: 0.9987 - val_loss: 1.2361 - val_accuracy: 0.7405\n",
            "Epoch 9/15\n",
            "124/124 [==============================] - 76s 608ms/step - loss: 0.0135 - accuracy: 0.9977 - val_loss: 1.2462 - val_accuracy: 0.7382\n",
            "Epoch 10/15\n",
            "124/124 [==============================] - 75s 596ms/step - loss: 0.0119 - accuracy: 0.9982 - val_loss: 1.2717 - val_accuracy: 0.7423\n",
            "Epoch 11/15\n",
            "124/124 [==============================] - 76s 602ms/step - loss: 0.0123 - accuracy: 0.9977 - val_loss: 1.2798 - val_accuracy: 0.7435\n",
            "Epoch 12/15\n",
            "124/124 [==============================] - 76s 601ms/step - loss: 0.0076 - accuracy: 0.9985 - val_loss: 1.2695 - val_accuracy: 0.7423\n",
            "Epoch 13/15\n",
            "124/124 [==============================] - 75s 599ms/step - loss: 0.0051 - accuracy: 0.9995 - val_loss: 1.2849 - val_accuracy: 0.7453\n",
            "Epoch 14/15\n",
            "124/124 [==============================] - 76s 604ms/step - loss: 0.0041 - accuracy: 0.9995 - val_loss: 1.2943 - val_accuracy: 0.7465\n",
            "Epoch 15/15\n",
            "124/124 [==============================] - 75s 595ms/step - loss: 0.0036 - accuracy: 0.9995 - val_loss: 1.3079 - val_accuracy: 0.7423\n"
          ]
        },
        {
          "output_type": "execute_result",
          "data": {
            "text/plain": [
              "<keras.callbacks.History at 0x7f74bbc0afd0>"
            ]
          },
          "metadata": {},
          "execution_count": 4
        }
      ]
    },
    {
      "cell_type": "code",
      "source": [
        "model_2 = residualnet(backbone_model, 47, 0.6, layer_index=-33)\n",
        "model_2.compile(\n",
        "    optimizer = tf.keras.optimizers.Adam(),\n",
        "    loss = tf.keras.losses.SparseCategoricalCrossentropy(),\n",
        "    metrics=['accuracy']\n",
        ")\n",
        "\n",
        "model_2.fit(ds_train, epochs=15, validation_data=ds_test)"
      ],
      "metadata": {
        "id": "kWaY6d3VOc9N"
      },
      "execution_count": null,
      "outputs": []
    },
    {
      "cell_type": "code",
      "source": [
        "# use the encoding module after extracting features from last conv layer of a CNN\n",
        "class EncodingLayer(tf.keras.layers.Layer):\n",
        "  def __init__(self, K=32):\n",
        "    super(EncodingLayer, self).__init__()\n",
        "    self.K = K\n",
        "  def build(self, input_shape):\n",
        "    self.D = input_shape[-1]\n",
        "    std_1 = 1/self.K**0.5 # to generate uniform distribution\n",
        "    init = tf.random_uniform_initializer(minval=-std_1, maxval=std_1)\n",
        "    self.codes = self.add_weight(name='codebook', initializer = init, trainable = True, shape=(1,self.K, self.D))\n",
        "    self.scale = self.add_weight(name='scale_factors', initializer = init, trainable = True, shape = (self.K, ))\n",
        "  def call(self, inputs):\n",
        "    x = tf.keras.backend.reshape(inputs, (-1,inputs.shape[1]*inputs.shape[2], 1, self.D ))\n",
        "    res = x - self.codes\n",
        "    W_i = tf.keras.backend.softmax(tf.multiply(tf.linalg.norm(res, axis=-1), self.scale))\n",
        "    E = tf.einsum('bik, bikd->bkd', W_i, res)\n",
        "    E = tf.keras.backend.l2_normalize(E)\n",
        "    return E\n",
        "\n",
        "def encoding_module(shape, filters, K=32):\n",
        "  input = tf.keras.Input(shape=shape)\n",
        "  x = tf.keras.layers.Conv2D(filters, 1)(input)\n",
        "  x = tf.keras.layers.BatchNormalization()(x)\n",
        "  x = tf.keras.layers.Activation(activation='relu')(x)\n",
        "  x = EncodingLayer(K=K)(x)\n",
        "  x = tf.keras.layers.Flatten()(x)\n",
        "  model = tf.keras.Model(inputs=input, outputs = x)\n",
        "  return model\n",
        "\n",
        "def DeepTEN(basemodel):\n",
        "  x = basemodel.output\n",
        "  x = encoding_module(basemodel.output_shape[1:], 128, 32)(x)\n",
        "  x = tf.keras.layers.Dense(47, activation='softmax')(x)\n",
        "  return tf.keras.Model(inputs= basemodel.input, outputs=x)\n",
        "\n",
        "basemodel = tf.keras.applications.resnet50.ResNet50(include_top=False, weights='imagenet', input_shape=(448,448,3))\n",
        "basemodel.trainable = False\n",
        "model = DeepTEN(basemodel)\n",
        "model.compile(\n",
        "    optimizer = tf.keras.optimizers.Adam(),\n",
        "    loss = tf.keras.losses.SparseCategoricalCrossentropy(),\n",
        "    metrics=['accuracy']\n",
        ")\n",
        "model.fit(ds_train, epochs=15, validation_data=ds_test)"
      ],
      "metadata": {
        "colab": {
          "base_uri": "https://localhost:8080/"
        },
        "id": "jOSVRckJcdWm",
        "outputId": "5fc4cf54-d658-4f4e-f4c5-4e33b2c4adc1"
      },
      "execution_count": null,
      "outputs": [
        {
          "output_type": "stream",
          "name": "stdout",
          "text": [
            "Downloading data from https://storage.googleapis.com/tensorflow/keras-applications/resnet/resnet50_weights_tf_dim_ordering_tf_kernels_notop.h5\n",
            "94773248/94765736 [==============================] - 1s 0us/step\n",
            "94781440/94765736 [==============================] - 1s 0us/step\n",
            "Epoch 1/15\n",
            "124/124 [==============================] - 96s 623ms/step - loss: 3.7134 - accuracy: 0.2439 - val_loss: 3.4922 - val_accuracy: 0.4344\n",
            "Epoch 2/15\n",
            "124/124 [==============================] - 80s 639ms/step - loss: 3.1955 - accuracy: 0.4889 - val_loss: 2.9542 - val_accuracy: 0.4970\n",
            "Epoch 3/15\n",
            "124/124 [==============================] - 72s 574ms/step - loss: 2.6623 - accuracy: 0.5985 - val_loss: 2.5432 - val_accuracy: 0.5573\n",
            "Epoch 4/15\n",
            "124/124 [==============================] - 74s 586ms/step - loss: 2.2527 - accuracy: 0.6834 - val_loss: 2.2310 - val_accuracy: 0.6117\n",
            "Epoch 5/15\n",
            "124/124 [==============================] - 73s 580ms/step - loss: 1.9133 - accuracy: 0.7553 - val_loss: 1.9842 - val_accuracy: 0.6430\n",
            "Epoch 6/15\n",
            "124/124 [==============================] - 75s 598ms/step - loss: 1.6287 - accuracy: 0.8123 - val_loss: 1.8024 - val_accuracy: 0.6755\n",
            "Epoch 7/15\n",
            "124/124 [==============================] - 74s 588ms/step - loss: 1.3877 - accuracy: 0.8607 - val_loss: 1.6461 - val_accuracy: 0.6933\n",
            "Epoch 8/15\n",
            "124/124 [==============================] - 76s 600ms/step - loss: 1.1826 - accuracy: 0.8959 - val_loss: 1.5340 - val_accuracy: 0.6980\n",
            "Epoch 9/15\n",
            "124/124 [==============================] - 74s 588ms/step - loss: 1.0133 - accuracy: 0.9129 - val_loss: 1.4412 - val_accuracy: 0.7098\n",
            "Epoch 10/15\n",
            "124/124 [==============================] - 75s 596ms/step - loss: 0.8651 - accuracy: 0.9321 - val_loss: 1.3709 - val_accuracy: 0.7074\n",
            "Epoch 11/15\n",
            "124/124 [==============================] - 74s 584ms/step - loss: 0.7418 - accuracy: 0.9478 - val_loss: 1.3119 - val_accuracy: 0.7139\n",
            "Epoch 12/15\n",
            "124/124 [==============================] - 75s 598ms/step - loss: 0.6327 - accuracy: 0.9580 - val_loss: 1.2723 - val_accuracy: 0.7157\n",
            "Epoch 13/15\n",
            "124/124 [==============================] - 74s 589ms/step - loss: 0.5455 - accuracy: 0.9673 - val_loss: 1.2374 - val_accuracy: 0.7240\n",
            "Epoch 14/15\n",
            "124/124 [==============================] - 74s 589ms/step - loss: 0.4688 - accuracy: 0.9739 - val_loss: 1.2101 - val_accuracy: 0.7252\n",
            "Epoch 15/15\n",
            "124/124 [==============================] - 75s 590ms/step - loss: 0.4003 - accuracy: 0.9802 - val_loss: 1.1878 - val_accuracy: 0.7222\n"
          ]
        },
        {
          "output_type": "execute_result",
          "data": {
            "text/plain": [
              "<keras.callbacks.History at 0x7fc87ac82d10>"
            ]
          },
          "metadata": {},
          "execution_count": 3
        }
      ]
    },
    {
      "cell_type": "code",
      "source": [
        "def EncodingModule(shape, dropout_rate):\n",
        "  input = tf.keras.Input(shape=shape[1:])\n",
        "#--------------Convolutional Transfer-----------------------------\n",
        "  ctm = tf.keras.layers.Conv2D(shape[-1], kernel_size= 1)(input)\n",
        "  ctm = tf.keras.layers.Dropout(dropout_rate)(ctm)\n",
        "  ctm = tf.keras.layers.BatchNormalization()(ctm)\n",
        "  ctm = tf.keras.layers.Activation(activation='sigmoid')(ctm)\n",
        "  #--------------Residual Calculation-------------------------------\n",
        "  x = tf.keras.layers.Activation(activation='sigmoid')(input)\n",
        "  res = tf.keras.layers.Lambda(lambda v: tf.subtract(v[1], v[0]))([x, ctm])\n",
        "  #--------------Aggregation----------------------------------------\n",
        "  x = tf.keras.layers.Activation(activation='relu')(res)\n",
        "  x = tf.keras.layers.BatchNormalization()(x)\n",
        "  x = tf.keras.layers.Activation(activation='relu')(x)\n",
        "  x = tf.keras.layers.GlobalAveragePooling2D()(x)\n",
        "  return tf.keras.Model(inputs=input, outputs = x)"
      ],
      "metadata": {
        "id": "c-SOiLT1yu0k"
      },
      "execution_count": null,
      "outputs": []
    },
    {
      "cell_type": "code",
      "source": [
        "def testmodel(basemodel, dropout_rate=0.5):\n",
        "  x1 = basemodel.get_layer(index=-1).output\n",
        "  x2 = basemodel.get_layer(index=-33).output\n",
        "  x3 = basemodel.get_layer(index=-95).output\n",
        "  x4 = basemodel.get_layer(index=-137).output\n",
        "\n",
        "  x1= EncodingModule(x1.shape, dropout_rate)(x1)\n",
        "  x2= EncodingModule(x2.shape, dropout_rate)(x2)\n",
        "  x3= EncodingModule(x3.shape, dropout_rate)(x3)\n",
        "  x4= EncodingModule(x4.shape, dropout_rate)(x4)\n",
        "\n",
        "  x = tf.keras.layers.Concatenate()([x1,x2,x3,x4])\n",
        "  #x = tf.keras.layers.Dense(2048, activation='relu')(x)\n",
        "  #x = tf.keras.layers.BatchNormalization()(x)\n",
        "  x = tf.keras.layers.Dense(47, activation='softmax')(x)\n",
        "  model = tf.keras.Model(inputs=basemodel.input, outputs = x)\n",
        "  return model\n",
        "\n",
        "basemodel = tf.keras.applications.ResNet50(include_top=False, weights='imagenet',input_shape=(448,448,3))\n",
        "basemodel.trainable = False\n",
        "testmodel_1 = testmodel(basemodel)\n",
        "tf.keras.utils.plot_model(testmodel_1)"
      ],
      "metadata": {
        "id": "bgeaAhYKxfB8"
      },
      "execution_count": null,
      "outputs": []
    },
    {
      "cell_type": "code",
      "source": [
        "testmodel_1.compile(optimizer= tf.keras.optimizers.Adam(),\n",
        "                    loss = tf.keras.losses.SparseCategoricalCrossentropy(),\n",
        "                    metrics = ['accuracy'])\n",
        "\n",
        "testmodel_1.fit(ds_train, epochs=15, validation_data = ds_test)"
      ],
      "metadata": {
        "colab": {
          "base_uri": "https://localhost:8080/"
        },
        "id": "r3zw-cdM1GkN",
        "outputId": "2634f223-acbe-4be2-801f-14eaf0820ff8"
      },
      "execution_count": null,
      "outputs": [
        {
          "output_type": "stream",
          "name": "stdout",
          "text": [
            "Epoch 1/15\n",
            "124/124 [==============================] - 126s 976ms/step - loss: 1.5545 - accuracy: 0.5973 - val_loss: 1.9983 - val_accuracy: 0.6797\n",
            "Epoch 2/15\n",
            "124/124 [==============================] - 121s 967ms/step - loss: 0.5245 - accuracy: 0.8442 - val_loss: 1.4384 - val_accuracy: 0.7092\n",
            "Epoch 3/15\n",
            "124/124 [==============================] - 121s 964ms/step - loss: 0.2783 - accuracy: 0.9169 - val_loss: 1.0533 - val_accuracy: 0.7116\n",
            "Epoch 4/15\n",
            "124/124 [==============================] - 121s 969ms/step - loss: 0.1276 - accuracy: 0.9668 - val_loss: 1.0189 - val_accuracy: 0.7181\n",
            "Epoch 5/15\n",
            "124/124 [==============================] - 121s 967ms/step - loss: 0.0751 - accuracy: 0.9813 - val_loss: 1.1322 - val_accuracy: 0.7175\n",
            "Epoch 6/15\n",
            "124/124 [==============================] - 120s 961ms/step - loss: 0.0485 - accuracy: 0.9891 - val_loss: 1.1735 - val_accuracy: 0.7400\n",
            "Epoch 7/15\n",
            "124/124 [==============================] - 121s 969ms/step - loss: 0.0229 - accuracy: 0.9967 - val_loss: 1.2571 - val_accuracy: 0.7311\n",
            "Epoch 8/15\n",
            "124/124 [==============================] - 121s 968ms/step - loss: 0.0308 - accuracy: 0.9932 - val_loss: 1.2748 - val_accuracy: 0.7317\n",
            "Epoch 9/15\n",
            "124/124 [==============================] - 121s 969ms/step - loss: 0.0196 - accuracy: 0.9972 - val_loss: 1.2373 - val_accuracy: 0.7299\n",
            "Epoch 10/15\n",
            "124/124 [==============================] - 120s 962ms/step - loss: 0.0116 - accuracy: 0.9982 - val_loss: 1.2719 - val_accuracy: 0.7323\n",
            "Epoch 11/15\n",
            "124/124 [==============================] - 121s 969ms/step - loss: 0.0154 - accuracy: 0.9962 - val_loss: 1.2597 - val_accuracy: 0.7405\n",
            "Epoch 12/15\n",
            "124/124 [==============================] - 121s 968ms/step - loss: 0.0119 - accuracy: 0.9975 - val_loss: 1.2748 - val_accuracy: 0.7388\n",
            "Epoch 13/15\n",
            "124/124 [==============================] - 120s 963ms/step - loss: 0.0120 - accuracy: 0.9977 - val_loss: 1.2696 - val_accuracy: 0.7358\n",
            "Epoch 14/15\n",
            "124/124 [==============================] - 120s 962ms/step - loss: 0.0057 - accuracy: 0.9992 - val_loss: 1.3378 - val_accuracy: 0.7352\n",
            "Epoch 15/15\n",
            "124/124 [==============================] - 120s 961ms/step - loss: 0.0034 - accuracy: 0.9997 - val_loss: 1.2813 - val_accuracy: 0.7370\n"
          ]
        },
        {
          "output_type": "execute_result",
          "data": {
            "text/plain": [
              "<keras.callbacks.History at 0x7f800a532d10>"
            ]
          },
          "metadata": {},
          "execution_count": 11
        }
      ]
    },
    {
      "cell_type": "code",
      "source": [],
      "metadata": {
        "id": "R9oLAJPF7da1"
      },
      "execution_count": null,
      "outputs": []
    }
  ]
}