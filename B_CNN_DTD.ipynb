{
  "nbformat": 4,
  "nbformat_minor": 0,
  "metadata": {
    "colab": {
      "provenance": [],
      "include_colab_link": true
    },
    "kernelspec": {
      "name": "python3",
      "display_name": "Python 3"
    },
    "language_info": {
      "name": "python"
    },
    "accelerator": "GPU",
    "gpuClass": "standard"
  },
  "cells": [
    {
      "cell_type": "markdown",
      "metadata": {
        "id": "view-in-github",
        "colab_type": "text"
      },
      "source": [
        "<a href=\"https://colab.research.google.com/github/rawdhikagupta/Texture-Analysis-Model/blob/main/B_CNN_DTD.ipynb\" target=\"_parent\"><img src=\"https://colab.research.google.com/assets/colab-badge.svg\" alt=\"Open In Colab\"/></a>"
      ]
    },
    {
      "cell_type": "code",
      "execution_count": null,
      "metadata": {
        "id": "Clnn2yyzAeFt"
      },
      "outputs": [],
      "source": [
        "import tensorflow as tf\n",
        "import tensorflow_datasets as tfds\n",
        "import matplotlib.pyplot as plt\n",
        "import numpy as np"
      ]
    },
    {
      "cell_type": "code",
      "source": [
        "# load dataset\n",
        "path = 'https://www.robots.ox.ac.uk/~vgg/data/dtd/download/dtd-r1.0.1.tar.gz'\n",
        "path_to_file = tf.keras.utils.get_file(\"dtd-r1.0.1_data\", path, archive_format = 'tar', untar = True, extract=True)\n",
        "\n",
        "# extracted file is dtd/images in datasets dir\n",
        "path_to_dir = \"/root/.keras/datasets/dtd/images\"\n",
        "\n",
        "ds_train = tf.keras.utils.image_dataset_from_directory(\n",
        "    path_to_dir, subset= 'training', validation_split = 0.3, seed = 42, shuffle = True, label_mode = 'int', batch_size=32, image_size=(448,448)\n",
        ")\n",
        "\n",
        "\n",
        "ds_test = tf.keras.utils.image_dataset_from_directory(\n",
        "    path_to_dir, subset= 'validation', validation_split = 0.3, seed = 42, label_mode ='int', batch_size = 32, image_size=(448,448)\n",
        ")\n",
        "\n",
        "\n",
        "\n",
        "def pre_processing(image, label):\n",
        "  image = tf.keras.applications.vgg16.preprocess_input(image)\n",
        "  return image, label\n",
        "\n",
        "ds_train = ds_train.map(pre_processing, num_parallel_calls = tf.data.AUTOTUNE)\n",
        "ds_test = ds_train.map(pre_processing, num_parallel_calls= tf.data.AUTOTUNE)\n",
        "\n",
        "ds_train.prefetch(tf.data.AUTOTUNE)\n",
        "ds_test.prefetch(tf.data.AUTOTUNE)"
      ],
      "metadata": {
        "id": "fiHbBY6eD44F",
        "colab": {
          "base_uri": "https://localhost:8080/"
        },
        "outputId": "79157f1b-70dd-4d71-abce-b823247d5ac0"
      },
      "execution_count": null,
      "outputs": [
        {
          "output_type": "stream",
          "name": "stdout",
          "text": [
            "Downloading data from https://www.robots.ox.ac.uk/~vgg/data/dtd/download/dtd-r1.0.1.tar.gz\n",
            "625246208/625239812 [==============================] - 46s 0us/step\n",
            "625254400/625239812 [==============================] - 46s 0us/step\n",
            "Found 5640 files belonging to 47 classes.\n",
            "Using 3948 files for training.\n",
            "Found 5640 files belonging to 47 classes.\n",
            "Using 1692 files for validation.\n"
          ]
        },
        {
          "output_type": "execute_result",
          "data": {
            "text/plain": [
              "<PrefetchDataset element_spec=(TensorSpec(shape=(None, 448, 448, 3), dtype=tf.float32, name=None), TensorSpec(shape=(None,), dtype=tf.int32, name=None))>"
            ]
          },
          "metadata": {},
          "execution_count": 2
        }
      ]
    },
    {
      "cell_type": "code",
      "source": [
        "basemodel_1 = tf.keras.applications.VGG16(include_top=False, weights='imagenet')\n",
        "basemodel_1.trainable = False\n",
        "basemodel_2 = tf.keras.applications.VGG19(include_top = False, weights ='imagenet')\n",
        "basemodel_2.trainable = False"
      ],
      "metadata": {
        "id": "LbjcpoaCTEHt",
        "colab": {
          "base_uri": "https://localhost:8080/"
        },
        "outputId": "f14db396-238c-42f0-9b34-f2cb4040d56b"
      },
      "execution_count": null,
      "outputs": [
        {
          "output_type": "stream",
          "name": "stdout",
          "text": [
            "Downloading data from https://storage.googleapis.com/tensorflow/keras-applications/vgg16/vgg16_weights_tf_dim_ordering_tf_kernels_notop.h5\n",
            "58892288/58889256 [==============================] - 0s 0us/step\n",
            "58900480/58889256 [==============================] - 0s 0us/step\n",
            "Downloading data from https://storage.googleapis.com/tensorflow/keras-applications/vgg19/vgg19_weights_tf_dim_ordering_tf_kernels_notop.h5\n",
            "80142336/80134624 [==============================] - 1s 0us/step\n",
            "80150528/80134624 [==============================] - 1s 0us/step\n"
          ]
        }
      ]
    },
    {
      "cell_type": "code",
      "source": [
        "def B_CNN():\n",
        "  inputs = tf.keras.Input(shape=[448, 448, 3])\n",
        "  x = basemodel_1(inputs)\n",
        "\n",
        "  model_1 = tf.keras.Model(inputs = inputs, outputs = x)\n",
        "\n",
        "  z = model_1.output_shape\n",
        "  #x = tf.keras.layers.Reshape([z[1]*z[2], z[-1]])(x)\n",
        "  x = tf.keras.layers.Lambda(lambda x: tf.einsum('ijkm,ijkn->imn', x, x)/(z[1]*z[2]))(x)\n",
        "  x = tf.keras.layers.Reshape([z[-1]*z[-1]])(x) # same as flatten\n",
        "  x = tf.keras.layers.Lambda(lambda x: tf.keras.backend.sign(x)* tf.sqrt(tf.keras.backend.abs(x)+1e-9))(x)\n",
        "  x = tf.keras.layers.Lambda(lambda x: tf.keras.backend.l2_normalize(x))(x)\n",
        "  \n",
        "  #x = tf.keras.layers.Dense(512, activation='relu', kernel_regularizer=tf.keras.regularizers.L2(0.01))(x)\n",
        "  x = tf.keras.layers.Dense(47, activation ='softmax')(x)\n",
        "  return tf.keras.Model(inputs=inputs, outputs = x)"
      ],
      "metadata": {
        "id": "3JzL56wgzwVC"
      },
      "execution_count": null,
      "outputs": []
    },
    {
      "cell_type": "code",
      "source": [
        "model = B_CNN()\n",
        "model.summary()"
      ],
      "metadata": {
        "colab": {
          "base_uri": "https://localhost:8080/"
        },
        "id": "oVlPles98yhh",
        "outputId": "1dcbce57-6ceb-4906-bddb-0f782bad0689"
      },
      "execution_count": null,
      "outputs": [
        {
          "output_type": "stream",
          "name": "stdout",
          "text": [
            "Model: \"model_3\"\n",
            "_________________________________________________________________\n",
            " Layer (type)                Output Shape              Param #   \n",
            "=================================================================\n",
            " input_4 (InputLayer)        [(None, 448, 448, 3)]     0         \n",
            "                                                                 \n",
            " vgg16 (Functional)          (None, None, None, 512)   14714688  \n",
            "                                                                 \n",
            " lambda_3 (Lambda)           (None, 512, 512)          0         \n",
            "                                                                 \n",
            " reshape_1 (Reshape)         (None, 262144)            0         \n",
            "                                                                 \n",
            " lambda_4 (Lambda)           (None, 262144)            0         \n",
            "                                                                 \n",
            " lambda_5 (Lambda)           (None, 262144)            0         \n",
            "                                                                 \n",
            " dense_1 (Dense)             (None, 47)                12320815  \n",
            "                                                                 \n",
            "=================================================================\n",
            "Total params: 27,035,503\n",
            "Trainable params: 12,320,815\n",
            "Non-trainable params: 14,714,688\n",
            "_________________________________________________________________\n"
          ]
        }
      ]
    },
    {
      "cell_type": "code",
      "source": [
        "\n",
        "model.compile(optimizer = tf.keras.optimizers.Adam(),\n",
        "              loss = tf.keras.losses.SparseCategoricalCrossentropy(),\n",
        "              metrics=['Accuracy'])\n",
        "'''cp_callback = tf.keras.callbacks.ModelCheckpoint(\n",
        "    filepath=\"/content/drive/MyDrive/Datasets_PS/ck.ckpt\", \n",
        "    verbose=1, \n",
        "    save_weights_only=True,\n",
        "    save_freq=124)'''\n",
        "history = model.fit(ds_train, epochs=25, validation_data=ds_test)"
      ],
      "metadata": {
        "colab": {
          "base_uri": "https://localhost:8080/"
        },
        "id": "FAG5csQ19O9R",
        "outputId": "e7c383cb-053c-47bc-d115-5bedf963355c"
      },
      "execution_count": null,
      "outputs": [
        {
          "output_type": "stream",
          "name": "stdout",
          "text": [
            "Epoch 1/25\n",
            "124/124 [==============================] - 174s 1s/step - loss: 3.5978 - Accuracy: 0.2237 - val_loss: 3.3712 - val_Accuracy: 0.4534\n",
            "Epoch 2/25\n",
            "124/124 [==============================] - 174s 1s/step - loss: 3.1374 - Accuracy: 0.5332 - val_loss: 3.0239 - val_Accuracy: 0.5550\n",
            "Epoch 3/25\n",
            "124/124 [==============================] - 176s 1s/step - loss: 2.7853 - Accuracy: 0.6170 - val_loss: 2.7523 - val_Accuracy: 0.5854\n",
            "Epoch 4/25\n",
            "124/124 [==============================] - 175s 1s/step - loss: 2.5149 - Accuracy: 0.6532 - val_loss: 2.5415 - val_Accuracy: 0.6026\n",
            "Epoch 5/25\n",
            "124/124 [==============================] - 175s 1s/step - loss: 2.3022 - Accuracy: 0.6826 - val_loss: 2.3740 - val_Accuracy: 0.6175\n",
            "Epoch 6/25\n",
            "124/124 [==============================] - 176s 1s/step - loss: 2.1289 - Accuracy: 0.6991 - val_loss: 2.2353 - val_Accuracy: 0.6297\n",
            "Epoch 7/25\n",
            "124/124 [==============================] - 175s 1s/step - loss: 1.9838 - Accuracy: 0.7150 - val_loss: 2.1224 - val_Accuracy: 0.6363\n",
            "Epoch 8/25\n",
            "124/124 [==============================] - 175s 1s/step - loss: 1.8601 - Accuracy: 0.7295 - val_loss: 2.0231 - val_Accuracy: 0.6416\n",
            "Epoch 9/25\n",
            "124/124 [==============================] - 176s 1s/step - loss: 1.7563 - Accuracy: 0.7442 - val_loss: 1.9379 - val_Accuracy: 0.6464\n",
            "Epoch 10/25\n",
            "124/124 [==============================] - 175s 1s/step - loss: 1.6646 - Accuracy: 0.7563 - val_loss: 1.8629 - val_Accuracy: 0.6540\n",
            "Epoch 11/25\n",
            "124/124 [==============================] - 175s 1s/step - loss: 1.5837 - Accuracy: 0.7639 - val_loss: 1.7985 - val_Accuracy: 0.6616\n",
            "Epoch 12/25\n",
            "124/124 [==============================] - 175s 1s/step - loss: 1.5098 - Accuracy: 0.7748 - val_loss: 1.7380 - val_Accuracy: 0.6669\n",
            "Epoch 13/25\n",
            "124/124 [==============================] - 172s 1s/step - loss: 1.4459 - Accuracy: 0.7812 - val_loss: 1.6878 - val_Accuracy: 0.6753\n",
            "Epoch 14/25\n",
            "124/124 [==============================] - 171s 1s/step - loss: 1.3832 - Accuracy: 0.7890 - val_loss: 1.6371 - val_Accuracy: 0.6786\n",
            "Epoch 15/25\n",
            "124/124 [==============================] - 167s 1s/step - loss: 1.3275 - Accuracy: 0.8007 - val_loss: 1.5920 - val_Accuracy: 0.6839\n",
            "Epoch 16/25\n",
            "124/124 [==============================] - 166s 1s/step - loss: 1.2791 - Accuracy: 0.8083 - val_loss: 1.5481 - val_Accuracy: 0.6887\n",
            "Epoch 17/25\n",
            "124/124 [==============================] - 166s 1s/step - loss: 1.2329 - Accuracy: 0.8171 - val_loss: 1.5125 - val_Accuracy: 0.6930\n",
            "Epoch 18/25\n",
            "124/124 [==============================] - 165s 1s/step - loss: 1.1907 - Accuracy: 0.8237 - val_loss: 1.4746 - val_Accuracy: 0.6955\n",
            "Epoch 19/25\n",
            "124/124 [==============================] - 169s 1s/step - loss: 1.1475 - Accuracy: 0.8273 - val_loss: 1.4425 - val_Accuracy: 0.6996\n",
            "Epoch 20/25\n",
            "124/124 [==============================] - 166s 1s/step - loss: 1.1095 - Accuracy: 0.8351 - val_loss: 1.4117 - val_Accuracy: 0.7047\n",
            "Epoch 21/25\n",
            "124/124 [==============================] - 166s 1s/step - loss: 1.0745 - Accuracy: 0.8384 - val_loss: 1.3795 - val_Accuracy: 0.7097\n",
            "Epoch 22/25\n",
            "124/124 [==============================] - 169s 1s/step - loss: 1.0416 - Accuracy: 0.8470 - val_loss: 1.3549 - val_Accuracy: 0.7118\n",
            "Epoch 23/25\n",
            "124/124 [==============================] - 170s 1s/step - loss: 1.0105 - Accuracy: 0.8523 - val_loss: 1.3269 - val_Accuracy: 0.7138\n",
            "Epoch 24/25\n",
            "124/124 [==============================] - 165s 1s/step - loss: 0.9799 - Accuracy: 0.8541 - val_loss: 1.3016 - val_Accuracy: 0.7201\n",
            "Epoch 25/25\n",
            "124/124 [==============================] - 164s 1s/step - loss: 0.9492 - Accuracy: 0.8602 - val_loss: 1.2814 - val_Accuracy: 0.7232\n"
          ]
        }
      ]
    },
    {
      "cell_type": "code",
      "source": [
        "plt.plot(history.history['Accuracy'])\n",
        "plt.plot(history.history['val_Accuracy'])\n",
        "plt.title('model accuracy')\n",
        "plt.ylabel('accuracy')\n",
        "plt.xlabel('epoch')\n",
        "plt.legend(['train', 'test'], loc='upper left')\n",
        "plt.show()"
      ],
      "metadata": {
        "id": "lstoVgxTGowz",
        "colab": {
          "base_uri": "https://localhost:8080/",
          "height": 295
        },
        "outputId": "09fc9000-752a-42d1-a153-7ce25c746c8e"
      },
      "execution_count": null,
      "outputs": [
        {
          "output_type": "display_data",
          "data": {
            "text/plain": [
              "<Figure size 432x288 with 1 Axes>"
            ],
            "image/png": "[encoded data removed]"
          },
          "metadata": {
            "needs_background": "light"
          }
        }
      ]
    }
  ]
}