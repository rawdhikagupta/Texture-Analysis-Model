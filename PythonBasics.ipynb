{
  "cells": [
    {
      "cell_type": "markdown",
      "metadata": {
        "id": "view-in-github",
        "colab_type": "text"
      },
      "source": [
        "<a href=\"https://colab.research.google.com/github/rawdhikagupta/Texture-Analysis-Model/blob/main/PythonBasics.ipynb\" target=\"_parent\"><img src=\"https://colab.research.google.com/assets/colab-badge.svg\" alt=\"Open In Colab\"/></a>"
      ]
    },
    {
      "cell_type": "markdown",
      "id": "2e99703e",
      "metadata": {
        "id": "2e99703e"
      },
      "source": [
        "### Python Basics Review\n",
        "\n",
        "#### Data types\n",
        "Int, Float, String, Bool\n",
        "#### Printing and output\n",
        "print using print function \n",
        "print(a,b,c,sep= '-',end='\\n') will print a-b-c and move to next line\n",
        "#### Variables\n",
        "Variables are just object references so x =2, y=3 x=y; both x,y will be\n",
        "reference to the same object in memory\n",
        "Any special charecters other than '_' are not allowed in the variables name\n",
        "and it should always start wiht a alphabet\n",
        "#### User Input\n",
        "we can use the input function to take user input; input(\"name: \") will\n",
        "ask the user his name, we can assign a varible to the output and store it\n",
        "input function will always give output as a string\n",
        "#### Arithmetic operators\n",
        "+,-,*,/ have their usual meaning. / will always return a float\n",
        "** is exponent; // will give the quotient; % is modulo operator\n",
        "python follows standard order of operations (BEDMAS) \n",
        "int('5') will convert string 5 to int 5, similarly float() function\n",
        "#### Method\n",
        "Methods are fuctions built into a data type. \"sathwik\".upper() to\n",
        "\"SATHWIK\" similarly .lower() and .capitalize() which makes only the\n",
        "first letter capital and rest small, .count(\"exp\") will count the number of\n",
        "time exp appeared [these are some of string methods, pay attention to \n",
        "capitilization].\n",
        ".type() is a method for every class and return the type of variable\n",
        "#### String Addition and Multipliaction\n",
        "\"s\"*3 is \"sss\"; \"s\"+ \"ee\" will be \"see\"\n",
        "#### Conditional operators\n",
        "will return a boolean value; == or 'is' checks for equality; != or 'not' \n",
        "checks for inequality; >=,<=,>,< have their usual meanings\n",
        "even strings can be compared [by their ASCII values, we can use ord() \n",
        "function to find ASCII values]\n",
        "We can chain conditions together using 'and', 'or' and 'not'."
      ]
    },
    {
      "cell_type": "code",
      "execution_count": null,
      "id": "b1484a42",
      "metadata": {
        "id": "b1484a42"
      },
      "outputs": [],
      "source": [
        "# If/Else/Elif\n",
        "x = 5\n",
        "if x == 'not':\n",
        "    pass\n",
        "elif x == 'joe':\n",
        "    pass\n",
        "else:\n",
        "    pass\n",
        "# Pay attention to indentation"
      ]
    },
    {
      "cell_type": "code",
      "execution_count": null,
      "id": "2e9abdd9",
      "metadata": {
        "id": "2e9abdd9"
      },
      "outputs": [],
      "source": [
        "# Collections\n",
        "\n",
        "# List\n",
        "lt = [1,'hii',False] # lists are ordered\n",
        "# len() will give the length of list and string\n",
        "lt.append(4) # will add 4 to the list\n",
        "lt.extend(['yo','joe','momma']) # will add them to end of the list\n",
        "lt.pop() # will remove last element\n",
        "lt.pop(3) # will remove element in index 3, every element has an index \n",
        "x = lt[0] # will store x a reference to second element of list\n",
        "# so a change to x will also effect the list, meaning lists are mutable.\n",
        "\n",
        "# Tuple\n",
        "# tuples are immutable\n",
        "lt = (2,3,\"hi\")"
      ]
    },
    {
      "cell_type": "code",
      "execution_count": null,
      "id": "e5a09e3e",
      "metadata": {
        "id": "e5a09e3e",
        "outputId": "63221bb3-76f4-4081-c3b2-c7d9cb078c57"
      },
      "outputs": [
        {
          "name": "stdout",
          "output_type": "stream",
          "text": [
            "10|9|8|7|6|5|4|3|2|1|0|0/1-1/2-2/3-3/4-"
          ]
        }
      ],
      "source": [
        "# For loop\n",
        "for i in range(100): # i goes from 0 to 99\n",
        "    x += 1\n",
        "# range(2,100,2) goes from 2,4,6,8 til 98\n",
        "for i in range(10,-1,-1):\n",
        "    print(i,end='|')\n",
        "# we can also use a list instead of range\n",
        "for i,j in enumerate([1,2,3,4]):\n",
        "    print(i,j,sep='/',end = '-')"
      ]
    },
    {
      "cell_type": "code",
      "execution_count": null,
      "id": "ce644c5d",
      "metadata": {
        "id": "ce644c5d",
        "outputId": "3e4c35de-5055-4a3a-9506-a51f901a2215"
      },
      "outputs": [
        {
          "name": "stdout",
          "output_type": "stream",
          "text": [
            "10 21\n"
          ]
        }
      ],
      "source": [
        "# While loop\n",
        "i=0\n",
        "while i<10:\n",
        "    i += 1\n",
        "print(i,end=' ')\n",
        "while i:\n",
        "    i += 1\n",
        "    if i >20:\n",
        "        break\n",
        "print(i)"
      ]
    },
    {
      "cell_type": "code",
      "execution_count": null,
      "id": "10c85db5",
      "metadata": {
        "id": "10c85db5",
        "outputId": "79d6e1be-4173-4b39-befa-6bc000eab765"
      },
      "outputs": [
        {
          "name": "stdout",
          "output_type": "stream",
          "text": [
            "[1, 2, 3] [3, 4, 5, 6, 7, 8, 9] [5, 4] [9, 8, 7, 6, 5, 4, 3, 2, 1] "
          ]
        }
      ],
      "source": [
        "# Slice operator\n",
        "# sliced = x[start:stop:step]\n",
        "lt = [1,2,3,4,5,6,7,8,9]\n",
        "sliced = lt[:3]\n",
        "print(sliced,end=' ')\n",
        "sliced = lt[2:]\n",
        "print(sliced,end=' ')\n",
        "sliced = lt[4:2:-1]\n",
        "print(sliced,end=' ')\n",
        "sliced = lt[::-1]\n",
        "print(sliced,end=' ')\n",
        "# all pf these work on string and tuples as well"
      ]
    },
    {
      "cell_type": "code",
      "execution_count": null,
      "id": "94918f2e",
      "metadata": {
        "id": "94918f2e",
        "outputId": "6b94a744-ce92-4901-f2ab-6f152a2d41ba"
      },
      "outputs": [
        {
          "name": "stdout",
          "output_type": "stream",
          "text": [
            "False\n"
          ]
        }
      ],
      "source": [
        "# Sets\n",
        "# these are unordered and unique collection of elements\n",
        "x = set([4,55,3,2,1,4])\n",
        "x.add(11)\n",
        "x.remove(2)\n",
        "print(2 in x)\n",
        "# we can do intersection, union, difference and some other stuff with sets"
      ]
    },
    {
      "cell_type": "code",
      "execution_count": null,
      "id": "83f6b1ca",
      "metadata": {
        "id": "83f6b1ca",
        "outputId": "08a8306d-ea3b-4e09-fa67-d3af4530671d"
      },
      "outputs": [
        {
          "name": "stdout",
          "output_type": "stream",
          "text": [
            "4 {'key': 4, 'key2': 5, 2: [1, 1, 1]} True [4, 5, [1, 1, 1]]|['key', 'key2', 2]"
          ]
        }
      ],
      "source": [
        "# Dictionary\n",
        "# this is a collection of key value pairs\n",
        "x = {'key':4}\n",
        "print(x['key'], end=' ')\n",
        "x['key2'] =5\n",
        "x[2] = [1,1,1]\n",
        "print(x, end=' ')\n",
        "print('key' in x,end=' ')\n",
        "print(list(x.values()),list(x.keys()),sep='|', end = '')\n",
        "del x['key']\n",
        "\n",
        "for key,value in x.items():\n",
        "    pass\n",
        "for key in x:\n",
        "    value = x[key]\n",
        "    pass"
      ]
    },
    {
      "cell_type": "code",
      "execution_count": null,
      "id": "d5b63a37",
      "metadata": {
        "id": "d5b63a37",
        "outputId": "333356f5-1637-4511-e27d-2b802bfa04fd"
      },
      "outputs": [
        {
          "name": "stdout",
          "output_type": "stream",
          "text": [
            "[2, 3, 4, 5, 6, 7, 8, 9, 10, 11] [0, 5, 10, 15, 20, 25, 30, 35, 40, 45] "
          ]
        }
      ],
      "source": [
        "# Comprehension\n",
        "# one liner\n",
        "x = [i+2 for i in range(10)]\n",
        "print(x, end=' ')\n",
        "\n",
        "x = [i for i in range(50) if i%5==0]\n",
        "print(x, end=' ')\n",
        "# works the same for dict, set"
      ]
    },
    {
      "cell_type": "code",
      "execution_count": null,
      "id": "6cfcfdd0",
      "metadata": {
        "id": "6cfcfdd0",
        "outputId": "9d1536fd-3652-489a-8de2-c2b641020766"
      },
      "outputs": [
        {
          "name": "stdout",
          "output_type": "stream",
          "text": [
            "run 0 1 2 <function func.<locals>.func2 at 0x00000272812F15E0>\n",
            "3\n"
          ]
        }
      ],
      "source": [
        "# Functions\n",
        "def func():\n",
        "    print(\"learn faster\",end=' ')\n",
        "\n",
        "def recursion(num=7,key=None): #default value of num is 7 and key is None\n",
        "    if num==0:\n",
        "        return 0\n",
        "    else:\n",
        "        return(recursion(num-1))\n",
        "    \n",
        "def func(x,y):\n",
        "    print(\"run\",end=' ')\n",
        "    return x,y\n",
        "r1,r2 = func(1,2)\n",
        "x = recursion(5)\n",
        "print(x,r1,r2,end=' ')\n",
        "\n",
        "def func(x):\n",
        "    def func2():\n",
        "        print(x)\n",
        "        \n",
        "    return func2 # will return func2 as a function\n",
        "x = func(3)\n",
        "print(x)\n",
        "x()"
      ]
    },
    {
      "cell_type": "code",
      "execution_count": null,
      "id": "51bd0bfc",
      "metadata": {
        "id": "51bd0bfc",
        "outputId": "1cedd86d-cc44-4750-e4f6-8f72405ceb65"
      },
      "outputs": [
        {
          "name": "stdout",
          "output_type": "stream",
          "text": [
            "1 12 123 1234 12345\n",
            "1 2 | 2 3 | (1, 2, 3, 4, 5) {'one': 0, 'two': 4} "
          ]
        }
      ],
      "source": [
        "# Unpack operator \n",
        "x = [1,12,123,1234,12345]\n",
        "print(*x)\n",
        "\n",
        "def func(x,y):\n",
        "    print(x,y,end =\" | \")\n",
        "pairs = [(1,2),(2,3)]\n",
        "for pair in pairs:\n",
        "    func(*pair)\n",
        "# * is for list or tuple; ** is for dict\n",
        "\n",
        "def func(*args,**kwargs):\n",
        "    print(args,kwargs,end =' ')\n",
        "func(1,2,3,4,5,one=0,two=4)"
      ]
    },
    {
      "cell_type": "code",
      "execution_count": null,
      "id": "488d221d",
      "metadata": {
        "id": "488d221d",
        "outputId": "bcf7efff-3685-4081-b811-3b941489ab36"
      },
      "outputs": [
        {
          "name": "stdout",
          "output_type": "stream",
          "text": [
            "nissi\n",
            "nissi\n",
            "change\n"
          ]
        }
      ],
      "source": [
        "# Scope and Global\n",
        "x = 'nissi'\n",
        "def func(name):\n",
        "    x = name\n",
        "print(x)\n",
        "func(\"change\")\n",
        "print(x)\n",
        "\n",
        "def func(name):\n",
        "    global x\n",
        "    x = name\n",
        "func(\"change\")\n",
        "print(x)"
      ]
    },
    {
      "cell_type": "code",
      "execution_count": null,
      "id": "d61573d6",
      "metadata": {
        "id": "d61573d6",
        "outputId": "905b3b1a-38c0-4e83-8f50-21f868670928"
      },
      "outputs": [
        {
          "ename": "Exception",
          "evalue": "Bad",
          "output_type": "error",
          "traceback": [
            "\u001b[1;31m---------------------------------------------------------------------------\u001b[0m",
            "\u001b[1;31mException\u001b[0m                                 Traceback (most recent call last)",
            "\u001b[1;32m<ipython-input-12-a60ca3809732>\u001b[0m in \u001b[0;36m<module>\u001b[1;34m\u001b[0m\n\u001b[0;32m      1\u001b[0m \u001b[1;31m# Exceptions\u001b[0m\u001b[1;33m\u001b[0m\u001b[1;33m\u001b[0m\u001b[1;33m\u001b[0m\u001b[0m\n\u001b[1;32m----> 2\u001b[1;33m \u001b[1;32mraise\u001b[0m \u001b[0mException\u001b[0m\u001b[1;33m(\u001b[0m\u001b[1;34m'Bad'\u001b[0m\u001b[1;33m)\u001b[0m\u001b[1;33m\u001b[0m\u001b[1;33m\u001b[0m\u001b[0m\n\u001b[0m\u001b[0;32m      3\u001b[0m \u001b[1;31m## for later\u001b[0m\u001b[1;33m\u001b[0m\u001b[1;33m\u001b[0m\u001b[1;33m\u001b[0m\u001b[0m\n",
            "\u001b[1;31mException\u001b[0m: Bad"
          ]
        }
      ],
      "source": [
        "# Exceptions\n",
        "raise Exception('Bad')\n",
        "## for later"
      ]
    },
    {
      "cell_type": "code",
      "execution_count": null,
      "id": "8c786569",
      "metadata": {
        "id": "8c786569",
        "outputId": "bdb64dbb-ba8a-4615-adc9-d805619030d7"
      },
      "outputs": [
        {
          "name": "stdout",
          "output_type": "stream",
          "text": [
            "division by zero\n",
            "finally\n"
          ]
        }
      ],
      "source": [
        "try:\n",
        "    x = 7/0\n",
        "except Exception as e:\n",
        "    print(e)\n",
        "finally:\n",
        "    print(\"finally\")"
      ]
    },
    {
      "cell_type": "code",
      "execution_count": null,
      "id": "f7684da6",
      "metadata": {
        "id": "f7684da6",
        "outputId": "e206c931-828d-4e8f-a410-b5cc3f8ffc40"
      },
      "outputs": [
        {
          "name": "stdout",
          "output_type": "stream",
          "text": [
            "7\n"
          ]
        }
      ],
      "source": [
        "# Lambda\n",
        "# one line anonymous function\n",
        "x = lambda x: x+5\n",
        "print(x(2))"
      ]
    },
    {
      "cell_type": "code",
      "execution_count": null,
      "id": "b3bc0031",
      "metadata": {
        "id": "b3bc0031",
        "outputId": "2e722e61-bfc1-4337-e4d7-5fa7aa4ebeeb"
      },
      "outputs": [
        {
          "name": "stdout",
          "output_type": "stream",
          "text": [
            "[3, 4, 5, 6, 7, 45, 58, 236, 47, 58, 46]\n",
            "[2, 4, 56, 234, 56, 44]\n"
          ]
        }
      ],
      "source": [
        "# Map and Filter\n",
        "x = [1,2,3,4,5,43,56,234,45,56,44]\n",
        "mp = map(lambda x:x+2,x)\n",
        "print(list(mp))\n",
        "mp = filter(lambda i: i%2==0,x) # need a boolean \n",
        "print(list(mp))"
      ]
    },
    {
      "cell_type": "code",
      "execution_count": null,
      "id": "b058453f",
      "metadata": {
        "id": "b058453f",
        "outputId": "1b42052f-47e7-4d57-b071-ba7f78ceab82"
      },
      "outputs": [
        {
          "name": "stdout",
          "output_type": "stream",
          "text": [
            "hello 14\n"
          ]
        }
      ],
      "source": [
        "# F strings\n",
        "x = f'hello {6+8}'\n",
        "print(x)"
      ]
    },
    {
      "cell_type": "markdown",
      "id": "f9b36d17",
      "metadata": {
        "id": "f9b36d17"
      },
      "source": [
        "### Object Oriented Programming"
      ]
    },
    {
      "cell_type": "code",
      "execution_count": null,
      "id": "c5ba5751",
      "metadata": {
        "id": "c5ba5751",
        "outputId": "73c6ee3a-0427-4879-c9d9-b34158173953"
      },
      "outputs": [
        {
          "name": "stdout",
          "output_type": "stream",
          "text": [
            "JohnDoe@gmail.com\n",
            "AvaMarie@gmail.com\n",
            "Ava Marie\n",
            "John Doe\n"
          ]
        }
      ],
      "source": [
        "# Classes and Instances\n",
        "\n",
        "class Employee():\n",
        "    pass\n",
        "\n",
        "emp_1 = Employee()   # these are instances\n",
        "emp_2 = Employee()\n",
        "\n",
        "emp_1.first = 'John' # these are instance variables\n",
        "emp_1.last = 'Doe'\n",
        "emp_1.email = 'JohnDoe@gmail.com'\n",
        "print(emp_1.email)\n",
        "\n",
        "class Employee:\n",
        "    def __init__(self, first, last): # forgetting self will give a typeerror\n",
        "        self.first = first   # instance variables or attributes\n",
        "        self.last = last\n",
        "        self.email = first+last+'@gmail.com'\n",
        "    \n",
        "    def fullname(self): #method\n",
        "        return self.first+' '+self.last\n",
        "    \n",
        "emp_1 = Employee('John','Doe')\n",
        "emp_2 = Employee('Ava','Marie')\n",
        "print(emp_2.email)\n",
        "print(emp_2.fullname())\n",
        "print(Employee.fullname(emp_1))"
      ]
    },
    {
      "cell_type": "code",
      "execution_count": null,
      "id": "40fe6d5f",
      "metadata": {
        "id": "40fe6d5f",
        "outputId": "383d6091-40d0-4c60-8a74-5e21562596b6"
      },
      "outputs": [
        {
          "name": "stdout",
          "output_type": "stream",
          "text": [
            "{'first': 'John', 'last': 'Doe', 'pay': 100000, 'email': 'JohnDoe@gmail.com'}\n",
            "{'__module__': '__main__', 'num_of_emps': 2, 'raise_amount': 4, '__init__': <function Employee.__init__ at 0x000002728138D5E0>, 'fullname': <function Employee.fullname at 0x000002728138D550>, 'apply_raise': <function Employee.apply_raise at 0x000002728138D280>, '__dict__': <attribute '__dict__' of 'Employee' objects>, '__weakref__': <attribute '__weakref__' of 'Employee' objects>, '__doc__': None}\n",
            "105000 104000\n",
            "2\n"
          ]
        }
      ],
      "source": [
        "# Class Variables\n",
        "\n",
        "class Employee:\n",
        "    \n",
        "    num_of_emps= 0\n",
        "    raise_amount = 4  # class variable; same for all the instances of a class\n",
        "    \n",
        "    def __init__(self, first, last, pay): \n",
        "        self.first = first  \n",
        "        self.last = last\n",
        "        self.pay = 100000\n",
        "        self.email = first+last+'@gmail.com'\n",
        "        Employee.num_of_emps +=1\n",
        "    \n",
        "    def fullname(self):\n",
        "        return self.first+' '+self.last\n",
        "    \n",
        "    def apply_raise(self):\n",
        "        self.pay = int(self.pay * (1+ 0.01*self.raise_amount))\n",
        "        return None\n",
        "        # self.raise_amount or Employee.raise_amount would work\n",
        "\n",
        "emp_1 = Employee('John','Doe',100000)\n",
        "emp_2 = Employee('Ava','Marie',100000)\n",
        "\n",
        "print(emp_1.__dict__)\n",
        "print(Employee.__dict__) # raise_amount is found here\n",
        "\n",
        "#changing raise_amount for a particular instance would not change it for entire class\n",
        "emp_1.raise_amount = 5\n",
        "emp_1.apply_raise()\n",
        "emp_2.apply_raise()\n",
        "print(emp_1.pay,emp_2.pay)\n",
        "print(Employee.num_of_emps)"
      ]
    },
    {
      "cell_type": "code",
      "execution_count": null,
      "id": "579f28d5",
      "metadata": {
        "id": "579f28d5",
        "outputId": "7469091a-9bd7-4125-c733-8afed07a214a"
      },
      "outputs": [
        {
          "name": "stdout",
          "output_type": "stream",
          "text": [
            "5\n",
            "5\n",
            "5\n",
            "100000\n",
            "True\n"
          ]
        }
      ],
      "source": [
        "# Classmethods and Staticmethods\n",
        "\n",
        "class Employee:\n",
        "    num_of_emps = 0\n",
        "    raise_amt = 4\n",
        "    def __init__(self, first, last, pay):\n",
        "        self.first = first  \n",
        "        self.last = last\n",
        "        self.pay = 100000\n",
        "        self.email = first+last+'@gmail.com'\n",
        "        Employee.num_of_emps +=1\n",
        "    def fullname(self):\n",
        "        return self.first+' '+self.last\n",
        "    def apply_raise(self):\n",
        "        self.pay = int(self.pay * (1+ 0.01*self.raise_amount))\n",
        "    @classmethod\n",
        "    def set_raise_amt(cls,amount):\n",
        "        cls.raise_amt = amount\n",
        "    @classmethod\n",
        "    def from_string(cls, emp_str):\n",
        "        first, last, pay = emp_str.split('-')\n",
        "        return cls(first, last, pay)\n",
        "    @staticmethod\n",
        "    def is_workday(day):\n",
        "        if day.weekday() == 5 or day.weekday() ==6: # mmonday is treated as 0 and sunday as 6\n",
        "            return False\n",
        "        return True\n",
        "    \n",
        "emp_1 = Employee('John','Doe',100000)\n",
        "emp_2 = Employee('Ava','Marie',100000)\n",
        "emp_str_3 = 'Jane-Doe-200000'\n",
        "new_emp_1 = Employee.from_string(emp_str_3)\n",
        "\n",
        "Employee.set_raise_amt(5)  # can also be used on self, \n",
        "\n",
        "print(Employee.raise_amt)\n",
        "print(emp_1.raise_amt)\n",
        "print(emp_2.raise_amt)\n",
        "print(new_emp_1.pay)\n",
        "\n",
        "import datetime \n",
        "my_date = datetime.date(2020,7,10)\n",
        "\n",
        "print(Employee.is_workday(my_date))"
      ]
    },
    {
      "cell_type": "code",
      "execution_count": null,
      "id": "30cdb5d3",
      "metadata": {
        "id": "30cdb5d3",
        "outputId": "20e0c993-2137-41af-aece-3079476fedbf"
      },
      "outputs": [
        {
          "name": "stdout",
          "output_type": "stream",
          "text": [
            "True\n",
            "True\n",
            "True\n",
            "Help on class Developer in module __main__:\n",
            "\n",
            "class Developer(Employee)\n",
            " |  Developer(first, last, pay, prog_lang)\n",
            " |  \n",
            " |  Method resolution order:\n",
            " |      Developer\n",
            " |      Employee\n",
            " |      builtins.object\n",
            " |  \n",
            " |  Methods defined here:\n",
            " |  \n",
            " |  __init__(self, first, last, pay, prog_lang)\n",
            " |      Initialize self.  See help(type(self)) for accurate signature.\n",
            " |  \n",
            " |  ----------------------------------------------------------------------\n",
            " |  Methods inherited from Employee:\n",
            " |  \n",
            " |  apply_raise(self)\n",
            " |  \n",
            " |  fullname(self)\n",
            " |  \n",
            " |  ----------------------------------------------------------------------\n",
            " |  Class methods inherited from Employee:\n",
            " |  \n",
            " |  from_string(emp_str) from builtins.type\n",
            " |  \n",
            " |  set_raise_amt(amount) from builtins.type\n",
            " |  \n",
            " |  ----------------------------------------------------------------------\n",
            " |  Static methods inherited from Employee:\n",
            " |  \n",
            " |  is_workday(day)\n",
            " |  \n",
            " |  ----------------------------------------------------------------------\n",
            " |  Data descriptors inherited from Employee:\n",
            " |  \n",
            " |  __dict__\n",
            " |      dictionary for instance variables (if defined)\n",
            " |  \n",
            " |  __weakref__\n",
            " |      list of weak references to the object (if defined)\n",
            " |  \n",
            " |  ----------------------------------------------------------------------\n",
            " |  Data and other attributes inherited from Employee:\n",
            " |  \n",
            " |  num_of_emps = 5\n",
            " |  \n",
            " |  raise_amt = 5\n",
            "\n",
            "None\n"
          ]
        }
      ],
      "source": [
        "# Inheritance\n",
        "class Developer(Employee):\n",
        "    def __init__(self, first, last, pay, prog_lang):\n",
        "        super().__init__(first, last, pay)\n",
        "        self.prog_lang = prog_lang\n",
        "        \n",
        "dev1 = Developer('John','Doe',100000,'python')\n",
        "dev2 = Developer('Jane','Doe',100000,'java')\n",
        "\n",
        "print(isinstance(dev1, Developer))\n",
        "print(isinstance(dev2, Employee))\n",
        "print(issubclass(Developer, Employee))\n",
        "print(help(Developer))"
      ]
    },
    {
      "cell_type": "code",
      "execution_count": null,
      "id": "522d86fa",
      "metadata": {
        "id": "522d86fa",
        "outputId": "8f0bec5d-2902-4884-f5b0-38446622a9f5"
      },
      "outputs": [
        {
          "name": "stdout",
          "output_type": "stream",
          "text": [
            "John, Doe, 100000\n",
            "John, Doe, 100000\n",
            "200000\n"
          ]
        }
      ],
      "source": [
        "# Magic Methods\n",
        "# these are alwyas sourrounded by double underscore also know as dunders\n",
        "\n",
        "class Employee:\n",
        "    num_of_emps = 0\n",
        "    raise_amt = 4\n",
        "    def __init__(self, first, last, pay):\n",
        "        self.first = first  \n",
        "        self.last = last\n",
        "        self.pay = 100000\n",
        "        self.email = first+last+'@gmail.com'\n",
        "        Employee.num_of_emps +=1\n",
        "    def fullname(self):\n",
        "        return self.first+' '+self.last\n",
        "    def apply_raise(self):\n",
        "        self.pay = int(self.pay * (1+ 0.01*self.raise_amount))\n",
        "    @classmethod\n",
        "    def set_raise_amt(cls,amount):\n",
        "        cls.raise_amt = amount\n",
        "    @classmethod\n",
        "    def from_string(cls, emp_str):\n",
        "        first, last, pay = emp_str.split('-')\n",
        "        return cls(first, last, pay)\n",
        "    @staticmethod\n",
        "    def is_workday(day):\n",
        "        if day.weekday() == 5 or day.weekday() ==6: # mmonday is treated as 0 and sunday as 6\n",
        "            return False\n",
        "        return True\n",
        "    def __repr__(self):\n",
        "        return f'{self.first}, {self.last}, {self.pay}' \n",
        "    def __add__(self,other):\n",
        "        return self.pay+other.pay\n",
        "    \n",
        "emp_1 = Employee('John','Doe',100000)\n",
        "emp_2 = Employee('Ava','Marie',100000)\n",
        "\n",
        "print(emp_1) # prints repr\n",
        "print(emp_1.__repr__())\n",
        "print(emp_1+emp_2)"
      ]
    },
    {
      "cell_type": "code",
      "execution_count": null,
      "id": "b1c1cf39",
      "metadata": {
        "id": "b1c1cf39",
        "outputId": "1a151764-fe0e-4893-9a96-411ce5e92299"
      },
      "outputs": [
        {
          "name": "stdout",
          "output_type": "stream",
          "text": [
            "JimDoe@email.com\n"
          ]
        }
      ],
      "source": [
        " # Property Decorator\n",
        "class Employee:\n",
        "    def __init__(self, first, last):\n",
        "        self.first = first\n",
        "        self.last = last\n",
        "        #self.email = first+last+'@email.com'\n",
        "    def fullname():\n",
        "        return f'{self.first} {self.last}'\n",
        "    @property\n",
        "    def email(self):\n",
        "        return f'{self.first}{self.last}@email.com' # changing the name will also change the email\n",
        "emp_1 = Employee('John','Doe') \n",
        "emp_1.first = 'Jim'\n",
        "print(emp_1.email)"
      ]
    },
    {
      "cell_type": "markdown",
      "id": "8428b65e",
      "metadata": {
        "id": "8428b65e"
      },
      "source": [
        "### Numpy and Matplotlib"
      ]
    },
    {
      "cell_type": "code",
      "execution_count": null,
      "id": "6f5e40c9",
      "metadata": {
        "scrolled": false,
        "id": "6f5e40c9",
        "outputId": "56c74aed-ca33-4f71-a64e-c32b2066c725"
      },
      "outputs": [
        {
          "name": "stdout",
          "output_type": "stream",
          "text": [
            "[1 2 3 4]\n",
            "[[[1 1 1]\n",
            "  [1 1 1]\n",
            "  [1 1 1]]\n",
            "\n",
            " [[1 1 1]\n",
            "  [1 1 1]\n",
            "  [1 1 1]]\n",
            "\n",
            " [[1 1 1]\n",
            "  [1 1 1]\n",
            "  [1 1 1]]]\n",
            "(4,)\n",
            "1\n",
            "(3, 3, 3)\n",
            "3\n",
            "int32 int32\n",
            "108\n"
          ]
        }
      ],
      "source": [
        "# Numpy // utilizes SIMD Processing and Cache memory\n",
        "\n",
        "import numpy as np\n",
        "\n",
        "a = np.array([1,2,3,4])  # Initilizing an array\n",
        "print(a)\n",
        "b = np.array([[[1,1,1],[1,1,1],[1,1,1]],[[1,1,1],[1,1,1],[1,1,1]],[[1,1,1],[1,1,1],[1,1,1]]])\n",
        "print(b)\n",
        "print(a.shape)\n",
        "print(a.ndim)\n",
        "print(b.shape)\n",
        "print(b.ndim)\n",
        "print(a.dtype, b.dtype) # type of our data\n",
        "print(b.nbytes) # total size of array"
      ]
    },
    {
      "cell_type": "code",
      "execution_count": null,
      "id": "b492155a",
      "metadata": {
        "id": "b492155a",
        "outputId": "fcc7fb5e-26a1-4548-cf64-c76812d9673f"
      },
      "outputs": [
        {
          "name": "stdout",
          "output_type": "stream",
          "text": [
            "[[ 1  2  3  4  5  6  7]\n",
            " [ 8  9 10 11 12 13 14]]\n",
            "13\n",
            "[ 3 10]\n",
            "[ 8  9 10 11 12 13 14]\n",
            "[3 4 5 6]\n",
            "[[1 2 3 4 5 6 7]\n",
            " [5 5 5 5 5 5 5]]\n",
            "[[ 1  2 10  4  5  6  7]\n",
            " [ 5  5 10  5  5  5  5]]\n"
          ]
        }
      ],
      "source": [
        "a = np.array([[1,2,3,4,5,6,7],[8,9,10,11,12,13,14]])\n",
        "print(a)\n",
        "print(a[1,-2])      # slicing in numpy\n",
        "print(a[:,2])\n",
        "print(a[1,:])\n",
        "print(a[0,2:-1])\n",
        "a[1,:] = 5\n",
        "print(a)\n",
        "a[:,2] = 10\n",
        "print(a)"
      ]
    },
    {
      "cell_type": "code",
      "execution_count": null,
      "id": "8bc898c6",
      "metadata": {
        "id": "8bc898c6",
        "outputId": "f55d7bbd-749c-458f-9025-315fa6019d12"
      },
      "outputs": [
        {
          "name": "stdout",
          "output_type": "stream",
          "text": [
            "[[[ 1  1  1]\n",
            "  [ 1  1  1]\n",
            "  [ 1 10  1]]\n",
            "\n",
            " [[ 1  1  1]\n",
            "  [ 1  1  1]\n",
            "  [ 1  1  1]]\n",
            "\n",
            " [[ 1  1  1]\n",
            "  [ 1  1  1]\n",
            "  [ 1  1  1]]]\n",
            "[[ 1 10  1]\n",
            " [ 1  1  1]\n",
            " [ 1  1  1]]\n"
          ]
        }
      ],
      "source": [
        "b[0,2,1] = 10\n",
        "print(b)\n",
        "print(b[:,2,:])"
      ]
    },
    {
      "cell_type": "code",
      "execution_count": null,
      "id": "a7f96fdf",
      "metadata": {
        "id": "a7f96fdf",
        "outputId": "d3490a71-580f-4f8c-ff86-3fc2821c06ec"
      },
      "outputs": [
        {
          "name": "stdout",
          "output_type": "stream",
          "text": [
            "[[[0. 0. 0.]\n",
            "  [0. 0. 0.]\n",
            "  [0. 0. 0.]]\n",
            "\n",
            " [[0. 0. 0.]\n",
            "  [0. 0. 0.]\n",
            "  [0. 0. 0.]]]\n",
            "[[[1. 1.]\n",
            "  [1. 1.]]\n",
            "\n",
            " [[1. 1.]\n",
            "  [1. 1.]]\n",
            "\n",
            " [[1. 1.]\n",
            "  [1. 1.]]\n",
            "\n",
            " [[1. 1.]\n",
            "  [1. 1.]]]\n",
            "[[98 98]\n",
            " [98 98]]\n",
            "[[1. 0. 0.]\n",
            " [0. 1. 0.]\n",
            " [0. 0. 1.]]\n",
            "[[0.78384881 0.36318848]\n",
            " [0.39855102 0.65411932]\n",
            " [0.08376239 0.5105371 ]\n",
            " [0.59294816 0.5270343 ]]\n",
            "[[3 3 2]\n",
            " [6 2 0]\n",
            " [1 4 5]]\n"
          ]
        }
      ],
      "source": [
        "# initilizing few vectors\n",
        "a = np.zeros((2,3,3))\n",
        "print(a)\n",
        "a = np.ones((4,2,2))\n",
        "print(a)\n",
        "a = np.full((2,2),98)\n",
        "print(a)\n",
        "a = np.identity(3)\n",
        "print(a)\n",
        "\n",
        "# random initialization\n",
        "a = np.random.rand(4,2) # use random_sample instead of rand to pass shape of other numpy array\n",
        "print(a)\n",
        "a = np.random.randint(7, size=(3,3))\n",
        "print(a)"
      ]
    },
    {
      "cell_type": "code",
      "execution_count": null,
      "id": "1a9b0d3e",
      "metadata": {
        "id": "1a9b0d3e"
      },
      "outputs": [],
      "source": [
        "a = np.ones((4,))\n",
        "b=a # b is not a copy but a reference to a\n",
        "b = a.copy() "
      ]
    },
    {
      "cell_type": "code",
      "execution_count": null,
      "id": "ddc8d6c2",
      "metadata": {
        "id": "ddc8d6c2",
        "outputId": "a99f24c8-3a9a-41d9-c47e-015406ed4543"
      },
      "outputs": [
        {
          "name": "stdout",
          "output_type": "stream",
          "text": [
            "[4. 4. 4. 4.]\n"
          ]
        }
      ],
      "source": [
        "# broadcasting\n",
        "a = np.ones((4,))\n",
        "a *= 4\n",
        "print(a)"
      ]
    },
    {
      "cell_type": "code",
      "execution_count": null,
      "id": "3326b712",
      "metadata": {
        "id": "3326b712",
        "outputId": "05c4612a-b14d-4846-c024-0661c9cd962d"
      },
      "outputs": [
        {
          "data": {
            "text/plain": [
              "array([16., 16., 16., 16.])"
            ]
          },
          "execution_count": 29,
          "metadata": {},
          "output_type": "execute_result"
        }
      ],
      "source": [
        "a**2"
      ]
    },
    {
      "cell_type": "code",
      "execution_count": null,
      "id": "7cffb375",
      "metadata": {
        "id": "7cffb375",
        "outputId": "9be78f9c-f411-4d9c-bfc9-fdaa8dc44100"
      },
      "outputs": [
        {
          "data": {
            "text/plain": [
              "array([-0.7568025, -0.7568025, -0.7568025, -0.7568025])"
            ]
          },
          "execution_count": 30,
          "metadata": {},
          "output_type": "execute_result"
        }
      ],
      "source": [
        "np.sin(a)"
      ]
    },
    {
      "cell_type": "code",
      "execution_count": null,
      "id": "a4c61818",
      "metadata": {
        "id": "a4c61818",
        "outputId": "10eb7ac3-fd2c-4f5f-876b-92e0b68272ab"
      },
      "outputs": [
        {
          "data": {
            "text/plain": [
              "0.0"
            ]
          },
          "execution_count": 31,
          "metadata": {},
          "output_type": "execute_result"
        }
      ],
      "source": [
        "a = np.ones((2,3))\n",
        "b = np.full((3,2),3)\n",
        "c = a@b # matrice multiplication\n",
        "np.linalg.det(c) # determinant"
      ]
    },
    {
      "cell_type": "code",
      "execution_count": null,
      "id": "da72eeee",
      "metadata": {
        "id": "da72eeee",
        "outputId": "b9209ff1-fedb-46f2-fe58-7c44b541393b"
      },
      "outputs": [
        {
          "data": {
            "text/plain": [
              "1"
            ]
          },
          "execution_count": 32,
          "metadata": {},
          "output_type": "execute_result"
        }
      ],
      "source": [
        "stats = np.array([[1,2,3],[5,6,7]])\n",
        "np.min(stats)"
      ]
    },
    {
      "cell_type": "code",
      "execution_count": null,
      "id": "8c25e904",
      "metadata": {
        "id": "8c25e904",
        "outputId": "3f21d453-3ca9-44cd-df3d-90481e896abf"
      },
      "outputs": [
        {
          "data": {
            "text/plain": [
              "array([1, 2, 3])"
            ]
          },
          "execution_count": 33,
          "metadata": {},
          "output_type": "execute_result"
        }
      ],
      "source": [
        "np.min(stats, axis =0)"
      ]
    },
    {
      "cell_type": "code",
      "execution_count": null,
      "id": "657133a3",
      "metadata": {
        "id": "657133a3",
        "outputId": "886e4763-f344-4096-8dd5-668ff6ac98cd"
      },
      "outputs": [
        {
          "data": {
            "text/plain": [
              "array([1, 5])"
            ]
          },
          "execution_count": 34,
          "metadata": {},
          "output_type": "execute_result"
        }
      ],
      "source": [
        "np.min(stats,axis=1)"
      ]
    },
    {
      "cell_type": "code",
      "execution_count": null,
      "id": "ce559ff5",
      "metadata": {
        "id": "ce559ff5",
        "outputId": "ff33ae07-801d-4fe6-918f-1ec88ec356fe"
      },
      "outputs": [
        {
          "data": {
            "text/plain": [
              "24"
            ]
          },
          "execution_count": 35,
          "metadata": {},
          "output_type": "execute_result"
        }
      ],
      "source": [
        "np.sum(stats)"
      ]
    },
    {
      "cell_type": "code",
      "execution_count": null,
      "id": "187cea9a",
      "metadata": {
        "id": "187cea9a",
        "outputId": "2c99f4a1-c728-4c15-af9f-05bb8caf276f"
      },
      "outputs": [
        {
          "data": {
            "text/plain": [
              "array([ 6,  8, 10])"
            ]
          },
          "execution_count": 36,
          "metadata": {},
          "output_type": "execute_result"
        }
      ],
      "source": [
        "np.sum(stats,axis=0)"
      ]
    },
    {
      "cell_type": "code",
      "execution_count": null,
      "id": "6fec9cad",
      "metadata": {
        "id": "6fec9cad",
        "outputId": "966deacd-09ca-492b-a877-21beaa7d9f03"
      },
      "outputs": [
        {
          "data": {
            "text/plain": [
              "array([ 6, 18])"
            ]
          },
          "execution_count": 37,
          "metadata": {},
          "output_type": "execute_result"
        }
      ],
      "source": [
        "np.sum(stats,axis =1)"
      ]
    },
    {
      "cell_type": "code",
      "execution_count": null,
      "id": "0830efce",
      "metadata": {
        "id": "0830efce",
        "outputId": "9097bb5b-6599-42b5-fa9e-5f8ff6ca8af9"
      },
      "outputs": [
        {
          "name": "stdout",
          "output_type": "stream",
          "text": [
            "[[1 2 3 4]\n",
            " [5 6 7 8]]\n",
            "[[[1 2]\n",
            "  [3 4]]\n",
            "\n",
            " [[5 6]\n",
            "  [7 8]]]\n"
          ]
        }
      ],
      "source": [
        "# reorganizong arrays\n",
        "\n",
        "before = np.array([[1,2,3,4],[5,6,7,8]])\n",
        "print(before)\n",
        "\n",
        "after = before.reshape((2,2,2))\n",
        "print(after)"
      ]
    },
    {
      "cell_type": "code",
      "execution_count": null,
      "id": "91da6d71",
      "metadata": {
        "id": "91da6d71",
        "outputId": "f54e30cd-decb-40bb-9cd4-97b5c18ba3d8"
      },
      "outputs": [
        {
          "name": "stdout",
          "output_type": "stream",
          "text": [
            "[[1 1 1]\n",
            " [2 2 2]\n",
            " [2 2 2]\n",
            " [1 1 1]]\n",
            "[1 1 1 2 2 2 1 1 1]\n"
          ]
        }
      ],
      "source": [
        "# veritically stcking vectors\n",
        "\n",
        "v1 = np.array([1,1,1])\n",
        "v2 = np.array([2,2,2])\n",
        "print(np.vstack([v1,v2,v2,v1]))\n",
        "\n",
        "# horizontal stcking vectors\n",
        "\n",
        "print(np.hstack([v1,v2,v1]))"
      ]
    },
    {
      "cell_type": "code",
      "execution_count": null,
      "id": "9fce840d",
      "metadata": {
        "id": "9fce840d",
        "outputId": "d57bf770-6b58-4878-d441-0a1fa6165d1d"
      },
      "outputs": [
        {
          "data": {
            "text/plain": [
              "array([[False, False, False, False],\n",
              "       [False,  True,  True,  True]])"
            ]
          },
          "execution_count": 43,
          "metadata": {},
          "output_type": "execute_result"
        }
      ],
      "source": [
        "# Boolean masking\n",
        "before > 5 # returns a boolean array"
      ]
    },
    {
      "cell_type": "code",
      "execution_count": null,
      "id": "546bb9fc",
      "metadata": {
        "id": "546bb9fc",
        "outputId": "202e6f55-b353-4c09-cbe2-4d53294f607e"
      },
      "outputs": [
        {
          "data": {
            "text/plain": [
              "array([6, 7, 8])"
            ]
          },
          "execution_count": 44,
          "metadata": {},
          "output_type": "execute_result"
        }
      ],
      "source": [
        "before[before>5]  "
      ]
    },
    {
      "cell_type": "code",
      "execution_count": null,
      "id": "53e8cfef",
      "metadata": {
        "id": "53e8cfef",
        "outputId": "e5a26562-40ac-49a0-a6a2-54a2d722842c"
      },
      "outputs": [
        {
          "data": {
            "text/plain": [
              "array([2, 3, 9])"
            ]
          },
          "execution_count": 45,
          "metadata": {},
          "output_type": "execute_result"
        }
      ],
      "source": [
        "a = np.array([1,2,3,4,5,6,7,8,9])   # we can index with a list in numpy\n",
        "a[[1,2,-1]]"
      ]
    },
    {
      "cell_type": "code",
      "execution_count": null,
      "id": "9f71766b",
      "metadata": {
        "id": "9f71766b",
        "outputId": "2eb4f248-8c38-4680-bc9c-815276b02641"
      },
      "outputs": [
        {
          "data": {
            "text/plain": [
              "array([False,  True,  True,  True])"
            ]
          },
          "execution_count": 46,
          "metadata": {},
          "output_type": "execute_result"
        }
      ],
      "source": [
        "np.any(before>5, axis=0)"
      ]
    },
    {
      "cell_type": "code",
      "execution_count": null,
      "id": "1b20daed",
      "metadata": {
        "id": "1b20daed"
      },
      "outputs": [],
      "source": [
        "# Matplotlib \n",
        "import matplotlib.pyplot as plt"
      ]
    },
    {
      "cell_type": "code",
      "execution_count": null,
      "id": "7009a6eb",
      "metadata": {
        "id": "7009a6eb",
        "outputId": "9f608ebd-9ad9-477b-fb70-6aa667fdf01e"
      },
      "outputs": [
        {
          "data": {
            "image/png": "[encoded data removed]",
            "text/plain": [
              "<Figure size 432x288 with 2 Axes>"
            ]
          },
          "metadata": {
            "needs_background": "light"
          },
          "output_type": "display_data"
        }
      ],
      "source": [
        "x, y = np.random.randn(2,100)\n",
        "fig, axes = plt.subplots(2, sharex=True,sharey=True)\n",
        "axes[0].plot(x)\n",
        "axes[1].plot(y)\n",
        "\n",
        "fig.tight_layout() #automatically adjusts the dimensions of figure"
      ]
    },
    {
      "cell_type": "code",
      "execution_count": null,
      "id": "85843628",
      "metadata": {
        "id": "85843628"
      },
      "outputs": [],
      "source": []
    }
  ],
  "metadata": {
    "kernelspec": {
      "display_name": "Python 3",
      "language": "python",
      "name": "python3"
    },
    "language_info": {
      "codemirror_mode": {
        "name": "ipython",
        "version": 3
      },
      "file_extension": ".py",
      "mimetype": "text/x-python",
      "name": "python",
      "nbconvert_exporter": "python",
      "pygments_lexer": "ipython3",
      "version": "3.8.8"
    },
    "colab": {
      "provenance": [],
      "include_colab_link": true
    }
  },
  "nbformat": 4,
  "nbformat_minor": 5
}